{
  "nbformat": 4,
  "nbformat_minor": 0,
  "metadata": {
    "colab": {
      "provenance": []
    },
    "kernelspec": {
      "name": "python3",
      "display_name": "Python 3"
    },
    "language_info": {
      "name": "python"
    }
  },
  "cells": [
    {
      "cell_type": "markdown",
      "source": [
        "Import libraries"
      ],
      "metadata": {
        "id": "GrgQoWT1s5Ev"
      }
    },
    {
      "cell_type": "code",
      "execution_count": 11,
      "metadata": {
        "colab": {
          "base_uri": "https://localhost:8080/"
        },
        "collapsed": true,
        "id": "siSEgkDlsgFg",
        "outputId": "57c248cf-dd53-4da3-c992-dd98358332eb"
      },
      "outputs": [
        {
          "output_type": "stream",
          "name": "stdout",
          "text": [
            "Requirement already satisfied: SpeechRecognition in /usr/local/lib/python3.12/dist-packages (3.14.3)\n",
            "Requirement already satisfied: pydub in /usr/local/lib/python3.12/dist-packages (0.25.1)\n",
            "Requirement already satisfied: typing-extensions in /usr/local/lib/python3.12/dist-packages (from SpeechRecognition) (4.15.0)\n"
          ]
        }
      ],
      "source": [
        "# we can write two different packages to install in same line separated by space\n",
        "!pip install SpeechRecognition pydub"
      ]
    },
    {
      "cell_type": "code",
      "source": [
        "import speech_recognition as sr\n",
        "import os\n",
        "import subprocess\n",
        "from google.colab import files\n",
        "from pydub import AudioSegment\n",
        "from pydub.silence import split_on_silence"
      ],
      "metadata": {
        "id": "rhGGZL4ys_cc"
      },
      "execution_count": 12,
      "outputs": []
    },
    {
      "cell_type": "markdown",
      "source": [
        "Upload Audio file"
      ],
      "metadata": {
        "id": "2WWA4YpctkH1"
      }
    },
    {
      "cell_type": "code",
      "source": [
        "files.upload()"
      ],
      "metadata": {
        "collapsed": true,
        "id": "4xad2vmhtn0r"
      },
      "execution_count": null,
      "outputs": []
    },
    {
      "cell_type": "markdown",
      "source": [
        "Convert .mp3 to .wav file"
      ],
      "metadata": {
        "id": "750mWKo-ugua"
      }
    },
    {
      "cell_type": "code",
      "source": [
        "subprocess.call(['ffmpeg', '-i', '01.mp3','wav_file.wav'])"
      ],
      "metadata": {
        "colab": {
          "base_uri": "https://localhost:8080/"
        },
        "id": "ZEmu3pZ8uISB",
        "outputId": "512f9aff-2b73-4dc7-9a14-0c0e7dcaf1a5"
      },
      "execution_count": 14,
      "outputs": [
        {
          "output_type": "execute_result",
          "data": {
            "text/plain": [
              "0"
            ]
          },
          "metadata": {},
          "execution_count": 14
        }
      ]
    },
    {
      "cell_type": "markdown",
      "source": [
        "Main function"
      ],
      "metadata": {
        "id": "ZomGtbHousF5"
      }
    },
    {
      "cell_type": "code",
      "source": [
        "# initialize the recognizer\n",
        "r = sr.Recognizer()\n",
        "\n",
        "# a function that splits the large audio file into chunks and applies speech recognition\n",
        "def get_large_audio_transcription(path):\n",
        "\n",
        "    # open the audio file using pydub\n",
        "    sound = AudioSegment.from_wav(path)\n",
        "    # split audio sound where silence is 700 miliseconds or more and get chunks\n",
        "    chunks = split_on_silence(sound,\n",
        "        # experiment with this value for your target audio file\n",
        "        min_silence_len = 500,\n",
        "        # adjust this per requirement\n",
        "        silence_thresh = sound.dBFS-14,\n",
        "        # keep the silence for 1 second, adjustable as well\n",
        "        keep_silence=500,\n",
        "    )\n",
        "    folder_name = \"audio-chunks\"\n",
        "    # create a directory to store the audio chunks\n",
        "    if not os.path.isdir(folder_name):\n",
        "        os.mkdir(folder_name)\n",
        "    whole_text = \"\"\n",
        "    # process each chunk\n",
        "    for i, audio_chunk in enumerate(chunks, start=1):\n",
        "        # export audio chunk and save it in\n",
        "        # the `folder_name` directory.\n",
        "        chunk_filename = os.path.join(folder_name, f\"chunk{i}.wav\")\n",
        "        audio_chunk.export(chunk_filename, format=\"wav\")\n",
        "        # recognize the chunk\n",
        "        with sr.AudioFile(chunk_filename) as source:\n",
        "            audio_listened = r.record(source)\n",
        "            # try converting it to text\n",
        "            try:\n",
        "                text = r.recognize_google(audio_listened)\n",
        "            except sr.UnknownValueError as e:\n",
        "                print(\"Error:\", str(e))\n",
        "            else:\n",
        "                text = f\"{text.capitalize()}. \"\n",
        "                print(chunk_filename, \":\", text)\n",
        "                whole_text += text\n",
        "    # return the text for all chunks detected\n",
        "    return whole_text"
      ],
      "metadata": {
        "id": "ujsclyL7urxI"
      },
      "execution_count": 15,
      "outputs": []
    },
    {
      "cell_type": "code",
      "source": [
        "print(\"\\nFull text:\", get_large_audio_transcription('wav_file.wav'))"
      ],
      "metadata": {
        "colab": {
          "base_uri": "https://localhost:8080/"
        },
        "id": "LxHS7WM3u_vX",
        "outputId": "4b79984c-8ef2-4760-f4ea-f3c70fda5278"
      },
      "execution_count": 16,
      "outputs": [
        {
          "output_type": "stream",
          "name": "stdout",
          "text": [
            "audio-chunks/chunk1.wav : Day 8. \n",
            "Error: \n",
            "audio-chunks/chunk3.wav : Describing a person. \n",
            "audio-chunks/chunk4.wav : Q card. \n",
            "audio-chunks/chunk5.wav : Describe a famous person you would like to meet. \n",
            "audio-chunks/chunk6.wav : You should say who it is. \n",
            "audio-chunks/chunk7.wav : What they are famous for. \n",
            "audio-chunks/chunk8.wav : What you would do if you meet them. \n",
            "audio-chunks/chunk9.wav : And explain why you would like to meet them. \n",
            "audio-chunks/chunk10.wav : Sample answer. \n",
            "audio-chunks/chunk11.wav : Well the person i'd like to meet most is johnny mo. \n",
            "audio-chunks/chunk12.wav : Who is a very famous film director in china. \n",
            "audio-chunks/chunk13.wav : I've always admired him. \n",
            "audio-chunks/chunk14.wav : He's a man of average height in his forties i think. \n",
            "audio-chunks/chunk15.wav : So far he has directed many good films. \n",
            "audio-chunks/chunk16.wav : He's well-known in china for his versatile talents. \n",
            "audio-chunks/chunk17.wav : First of all he's a famous director. \n",
            "audio-chunks/chunk18.wav : Most of his films have won international prizes. \n",
            "audio-chunks/chunk19.wav : And the actresses who have appeared in his films would consequently become popular as well. \n",
            "audio-chunks/chunk20.wav : I like his film the road home. \n",
            "audio-chunks/chunk21.wav : Which describes how a young teacher and a girl. \n",
            "audio-chunks/chunk22.wav : Fell in love. \n",
            "audio-chunks/chunk23.wav : And how they worked and enjoyed their life in a small village. \n",
            "audio-chunks/chunk24.wav : It's really touching with very good photography. \n",
            "audio-chunks/chunk25.wav : And nice music. \n",
            "audio-chunks/chunk26.wav : In spite of the simple plot. \n",
            "audio-chunks/chunk27.wav : Apart from his directing. \n",
            "audio-chunks/chunk28.wav : He has appeared in many films as the main character. \n",
            "audio-chunks/chunk29.wav : Which always gives people a very deep impression. \n",
            "audio-chunks/chunk30.wav : I clearly remember one film in which he played the role of a terracotta warrior who came back to life and got involved in a love affair with a woman. \n",
            "audio-chunks/chunk31.wav : In recent years instead of depicting the uncivilized and backward life in the country areas. \n",
            "audio-chunks/chunk32.wav : He has made great efforts to publicize chinese culture. \n",
            "audio-chunks/chunk33.wav : One of his famous works is a short documentary assisting china to bid for the 2008 olympic games. \n",
            "audio-chunks/chunk34.wav : It's quite spectacular. \n",
            "audio-chunks/chunk35.wav : He is the kind of person i would really like to meet. \n",
            "audio-chunks/chunk36.wav : As he's a very good example of success through unfailing effort perseverance and struggle. \n",
            "audio-chunks/chunk37.wav : If i met him i'd like to ask him about how he has succeeded against all odds. \n",
            "audio-chunks/chunk38.wav : I also like to get some advice as to how to achieve self-fulfillment as he has done. \n",
            "\n",
            "Full text: Day 8. Describing a person. Q card. Describe a famous person you would like to meet. You should say who it is. What they are famous for. What you would do if you meet them. And explain why you would like to meet them. Sample answer. Well the person i'd like to meet most is johnny mo. Who is a very famous film director in china. I've always admired him. He's a man of average height in his forties i think. So far he has directed many good films. He's well-known in china for his versatile talents. First of all he's a famous director. Most of his films have won international prizes. And the actresses who have appeared in his films would consequently become popular as well. I like his film the road home. Which describes how a young teacher and a girl. Fell in love. And how they worked and enjoyed their life in a small village. It's really touching with very good photography. And nice music. In spite of the simple plot. Apart from his directing. He has appeared in many films as the main character. Which always gives people a very deep impression. I clearly remember one film in which he played the role of a terracotta warrior who came back to life and got involved in a love affair with a woman. In recent years instead of depicting the uncivilized and backward life in the country areas. He has made great efforts to publicize chinese culture. One of his famous works is a short documentary assisting china to bid for the 2008 olympic games. It's quite spectacular. He is the kind of person i would really like to meet. As he's a very good example of success through unfailing effort perseverance and struggle. If i met him i'd like to ask him about how he has succeeded against all odds. I also like to get some advice as to how to achieve self-fulfillment as he has done. \n"
          ]
        }
      ]
    }
  ]
}